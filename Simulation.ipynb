{
 "cells": [
  {
   "cell_type": "code",
   "execution_count": 107,
   "metadata": {
    "collapsed": true
   },
   "outputs": [],
   "source": [
    "import matplotlib.pyplot as plt\n",
    "from matplotlib import animation\n",
    "\n",
    "import numpy as np\n",
    "import pandas as pd\n",
    "import datetime\n",
    "import random\n",
    "import time\n",
    "\n",
    "from string import ascii_lowercase"
   ]
  },
  {
   "cell_type": "code",
   "execution_count": null,
   "metadata": {
    "collapsed": true
   },
   "outputs": [],
   "source": [
    "# Simple ascii to number dictionary\n",
    "\n",
    "nodeDict = {}\n",
    "i = 0\n",
    "for c in ascii_lowercase:\n",
    "    nodeDict[c] = i\n",
    "    i += 1"
   ]
  },
  {
   "cell_type": "code",
   "execution_count": 305,
   "metadata": {
    "code_folding": [
     38
    ]
   },
   "outputs": [],
   "source": [
    "# Node class\n",
    "class Node:\n",
    "    \n",
    "    def __init__(self, x_pos, node_id, isEvil=False):\n",
    "        self.chain = []\n",
    "        self.x_chain = []\n",
    "        self.x_chain.append(x_pos)\n",
    "        self.id = node_id\n",
    "        self.radius = 1\n",
    "        self.isEvil = isEvil\n",
    "        \n",
    "    def connect(self, nodes, timestamp):\n",
    "        self.chain.append([])\n",
    "        \n",
    "        for node in nodes:\n",
    "            \n",
    "            # Distance from other node to this node\n",
    "            # Note that distance (in x_chain is always timestamp + 1 to avoid off-by-one errors)\n",
    "            dist = (node.x_chain[timestamp] - self.x_chain[timestamp])\n",
    "            \n",
    "            # Check if nearby nodes are close enough\n",
    "            if  abs(dist) <= self.radius and node.id != self.id:\n",
    "                \n",
    "                # If the nodes are to this node's right, add them with (self, node)\n",
    "                if dist > 0:\n",
    "                    self.chain[timestamp].append([self.id, node.id])\n",
    "\n",
    "                # Otherwise, add in the order (node, self)\n",
    "                else:\n",
    "                    self.chain[timestamp].append([node.id, self.id])\n",
    "    \n",
    "    def move(self):\n",
    "        self.x_pos = self.x_pos + random.randint(-1, 1)\n",
    "\n",
    "    def __str__(self):\n",
    "        return ('ID:%3s Position:%3s Evil:%3s' % (self.id, self.x_chain, self.isEvil))\n",
    "\n",
    "    \n",
    "    \n",
    "# EvilNode class\n",
    "class EvilNode(Node):\n",
    "    \n",
    "    def __init__(self, x_pos, node_id):\n",
    "        super().__init__(self, x_pos, node_id, isEvil=True)\n",
    "        \n",
    "    def connect(self, nodes, timestamp):\n",
    "        self.chain.append([[],[]])\n",
    "        for node in nodes:\n",
    "\n",
    "            # Distance from other node to this node\n",
    "            dist = (node.x_pos - self.x_pos)\n",
    "\n",
    "            # Check if nearby nodes are close enough\n",
    "            # Also checks to see if the other Nodes are Evil\n",
    "            if  abs(dist) <= self.radius and node.id != self.id and node.isEvil == True:\n",
    "\n",
    "                # If the nodes are to this node's right, add them with (self, node)\n",
    "                if dist > 0:\n",
    "                    self.chain[timestamp][1].append([node.id])\n",
    "\n",
    "                # Otherwise, add in the order (node, self)\n",
    "                else:\n",
    "                    self.chain[timestamp][0].append([node.id])"
   ]
  },
  {
   "cell_type": "code",
   "execution_count": 306,
   "metadata": {},
   "outputs": [],
   "source": [
    "nodeList = []\n",
    "\n",
    "for c in ascii_lowercase:\n",
    "    \n",
    "    # All honest Nodes for now\n",
    "    if ((random.randint(2,2) % 2) == 0):\n",
    "        \n",
    "        node1 = Node(random.randint(0, 50), c)\n",
    "        nodeList.append(node1)\n",
    "    else:\n",
    "        node1 = EvilNode(random.randint(0, 50), c)\n",
    "        nodeList.append(node1)"
   ]
  },
  {
   "cell_type": "code",
   "execution_count": 307,
   "metadata": {},
   "outputs": [
    {
     "name": "stdout",
     "output_type": "stream",
     "text": [
      "ID:  a Position:[36] Evil:False\n",
      "ID:  b Position:[50] Evil:False\n",
      "ID:  c Position:[11] Evil:False\n",
      "ID:  d Position:[15] Evil:False\n",
      "ID:  e Position:[2] Evil:False\n",
      "ID:  f Position:[7] Evil:False\n",
      "ID:  g Position:[35] Evil:False\n",
      "ID:  h Position:[38] Evil:False\n",
      "ID:  i Position:[8] Evil:False\n",
      "ID:  j Position:[25] Evil:False\n",
      "ID:  k Position:[44] Evil:False\n",
      "ID:  l Position:[10] Evil:False\n",
      "ID:  m Position:[21] Evil:False\n",
      "ID:  n Position:[12] Evil:False\n",
      "ID:  o Position:[35] Evil:False\n",
      "ID:  p Position:[4] Evil:False\n",
      "ID:  q Position:[28] Evil:False\n",
      "ID:  r Position:[22] Evil:False\n",
      "ID:  s Position:[37] Evil:False\n",
      "ID:  t Position:[37] Evil:False\n",
      "ID:  u Position:[49] Evil:False\n",
      "ID:  v Position:[27] Evil:False\n",
      "ID:  w Position:[11] Evil:False\n",
      "ID:  x Position:[45] Evil:False\n",
      "ID:  y Position:[12] Evil:False\n",
      "ID:  z Position:[40] Evil:False\n"
     ]
    }
   ],
   "source": [
    "for node in nodeList:\n",
    "    node.connect(nodeList, 0)\n",
    "    \n",
    "for node in nodeList:\n",
    "    print(node)"
   ]
  },
  {
   "cell_type": "code",
   "execution_count": 351,
   "metadata": {},
   "outputs": [],
   "source": [
    "# Assumes that nodes accurately report their own location\n",
    "# Checks all the neighbors to the left and right that the node reports\n",
    "# Checks all that the left neighbors report each other as neighbors (and also report the node in question)\n",
    "# Repeat for the right\n",
    "# \n",
    "def queryNode(time, node_id, location, nodeList):\n",
    "    \n",
    "    # Grab the appropriate node\n",
    "    node = nodeList[nodeDict[node_id]]\n",
    "    \n",
    "    # Check to see that the node reports it is where it is at\n",
    "    if (node.x_chain[time] != location):\n",
    "        return False\n",
    "    \n",
    "    else:\n",
    "        total_witnesses_count = len(node.chain[time])\n",
    "        unseen_witnesses_count = 0\n",
    "        unseen_neightbors_count = 0\n",
    "        \n",
    "        left_nodes = []\n",
    "        right_nodes = []\n",
    "        \n",
    "        print(left_nodes, right_nodes)\n",
    "        \n",
    "        for link in node.chain[time]:\n",
    "            if (link[0] == node_id):\n",
    "                right_nodes.append(link[1])\n",
    "            else:\n",
    "                left_nodes.append(link[0])\n",
    "    \n",
    "        # Check to see if all nodes saw our node\n",
    "        for neighbor in left_nodes+right_nodes:\n",
    "            unseen = True\n",
    "            for link in nodeList[nodeDict[neighbor]].chain[time]:\n",
    "                if node_id in link:\n",
    "                    unseen = False\n",
    "                    print(link)\n",
    "            if (unseen):\n",
    "                unseen_witnesses_count += 1\n",
    "        \n",
    "        # Checks if all left nodes saw each other (this can blow up quickly in time)\n",
    "        for neighbor in left_nodes:\n",
    "            unseen = True\n",
    "            for link in nodeList[nodeDict[neighbor]].chain[time]:\n",
    "                for other_neighbors in left_nodes:\n",
    "                    if other_neighbors != neighbor:\n",
    "                        if node_id in link:\n",
    "                            unseen = False\n",
    "                            print(link)\n",
    "            if (unseen):\n",
    "                unseen_neighbors_count += 1\n",
    "                \n",
    "        # Checks if all right nodes saw each other (this can blow up quickly in time)\n",
    "        for neighbor in right_nodes:\n",
    "            unseen = True\n",
    "            \n",
    "            # Iterate through all links per neighbor to see if they saw all other neighbors\n",
    "            for link in nodeList[nodeDict[neighbor]].chain[time]:\n",
    "                \n",
    "                # For each neighbor, check that the link contains them\n",
    "                for other_neighbors in right_nodes:\n",
    "                    if other_neighbors != neighbor:\n",
    "                        if node_id in link:\n",
    "                            unseen = False\n",
    "                            print(link)\n",
    "            if (unseen):\n",
    "                print(link)\n",
    "                unseen_neighbors_count += 1\n",
    "        \n",
    "        return True, unseen_witnesses_count, unseen_neightbors_count"
   ]
  },
  {
   "cell_type": "code",
   "execution_count": 352,
   "metadata": {},
   "outputs": [
    {
     "name": "stdout",
     "output_type": "stream",
     "text": [
      "[] []\n",
      "['g', 'a']\n",
      "['o', 'a']\n",
      "['a', 's']\n",
      "['a', 't']\n",
      "['g', 'a']\n",
      "['o', 'a']\n",
      "['a', 's']\n",
      "['a', 't']\n"
     ]
    },
    {
     "data": {
      "text/plain": [
       "(True, 0, 0)"
      ]
     },
     "execution_count": 352,
     "metadata": {},
     "output_type": "execute_result"
    }
   ],
   "source": [
    "queryNode(0, 'a', 36, nodeList)"
   ]
  },
  {
   "cell_type": "code",
   "execution_count": null,
   "metadata": {
    "collapsed": true
   },
   "outputs": [],
   "source": []
  }
 ],
 "metadata": {
  "kernelspec": {
   "display_name": "Python 3",
   "language": "python",
   "name": "python3"
  },
  "language_info": {
   "codemirror_mode": {
    "name": "ipython",
    "version": 3
   },
   "file_extension": ".py",
   "mimetype": "text/x-python",
   "name": "python",
   "nbconvert_exporter": "python",
   "pygments_lexer": "ipython3",
   "version": "3.6.3"
  }
 },
 "nbformat": 4,
 "nbformat_minor": 2
}
